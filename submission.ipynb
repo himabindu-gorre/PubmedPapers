{
 "cells": [
  {
   "cell_type": "code",
   "execution_count": 2,
   "id": "557e7ba9",
   "metadata": {},
   "outputs": [
    {
     "name": "stdout",
     "output_type": "stream",
     "text": [
      "Initialized empty Git repository in C:/Users/hp/Desktop/Machine L/pubmed_papers/.git/\n",
      "[main (root-commit) 2b59661] first commit\n",
      " 1 file changed, 37 insertions(+)\n",
      " create mode 100644 README.md\n"
     ]
    },
    {
     "name": "stderr",
     "output_type": "stream",
     "text": [
      "To https://github.com/himabindu-gorre/PubmedPapers.git\n",
      " ! [rejected]        main -> main (fetch first)\n",
      "error: failed to push some refs to 'https://github.com/himabindu-gorre/PubmedPapers.git'\n",
      "hint: Updates were rejected because the remote contains work that you do not\n",
      "hint: have locally. This is usually caused by another repository pushing to\n",
      "hint: the same ref. If you want to integrate the remote changes, use\n",
      "hint: 'git pull' before pushing again.\n",
      "hint: See the 'Note about fast-forwards' in 'git push --help' for details.\n"
     ]
    }
   ],
   "source": [
    "!echo \"# PubmedPapers\" >> README.md\n",
    "!git init\n",
    "!git add README.md\n",
    "!git commit -m \"first commit\"\n",
    "!git branch -M main\n",
    "!git remote add origin https://github.com/himabindu-gorre/PubmedPapers.git\n",
    "!git push -u origin main"
   ]
  },
  {
   "cell_type": "code",
   "execution_count": 4,
   "id": "f0c8754c",
   "metadata": {},
   "outputs": [
    {
     "name": "stderr",
     "output_type": "stream",
     "text": [
      "warning: in the working copy of 'report.ipynb', LF will be replaced by CRLF the next time Git touches it\n",
      "warning: in the working copy of 'submission.ipynb', LF will be replaced by CRLF the next time Git touches it\n"
     ]
    },
    {
     "name": "stdout",
     "output_type": "stream",
     "text": [
      "[main a6bbd4a] Add notebook, CSV, and code files\n",
      " 3 files changed, 737 insertions(+)\n",
      " create mode 100644 filtered_pubmed_papers.csv\n",
      " create mode 100644 report.ipynb\n",
      " create mode 100644 submission.ipynb\n"
     ]
    },
    {
     "name": "stderr",
     "output_type": "stream",
     "text": [
      "fatal: The current branch main has no upstream branch.\n",
      "To push the current branch and set the remote as upstream, use\n",
      "\n",
      "    git push --set-upstream origin main\n",
      "\n",
      "To have this happen automatically for branches without a tracking\n",
      "upstream, see 'push.autoSetupRemote' in 'git help config'.\n",
      "\n"
     ]
    }
   ],
   "source": [
    "!git add .\n",
    "!git commit -m \"Add notebook, CSV, and code files\"\n",
    "!git push"
   ]
  },
  {
   "cell_type": "code",
   "execution_count": 7,
   "id": "9d6fadaa",
   "metadata": {},
   "outputs": [
    {
     "name": "stderr",
     "output_type": "stream",
     "text": [
      "To https://github.com/himabindu-gorre/PubmedPapers.git\n",
      " ! [rejected]        main -> main (fetch first)\n",
      "error: failed to push some refs to 'https://github.com/himabindu-gorre/PubmedPapers.git'\n",
      "hint: Updates were rejected because the remote contains work that you do not\n",
      "hint: have locally. This is usually caused by another repository pushing to\n",
      "hint: the same ref. If you want to integrate the remote changes, use\n",
      "hint: 'git pull' before pushing again.\n",
      "hint: See the 'Note about fast-forwards' in 'git push --help' for details.\n"
     ]
    }
   ],
   "source": [
    "!git push --set-upstream origin main\n"
   ]
  },
  {
   "cell_type": "code",
   "execution_count": 8,
   "id": "8e845f30",
   "metadata": {},
   "outputs": [
    {
     "name": "stderr",
     "output_type": "stream",
     "text": [
      "fatal: The current branch main has no upstream branch.\n",
      "To push the current branch and set the remote as upstream, use\n",
      "\n",
      "    git push --set-upstream origin main\n",
      "\n",
      "To have this happen automatically for branches without a tracking\n",
      "upstream, see 'push.autoSetupRemote' in 'git help config'.\n",
      "\n"
     ]
    }
   ],
   "source": [
    "!git push"
   ]
  },
  {
   "cell_type": "code",
   "execution_count": 10,
   "id": "c8a8e8d4",
   "metadata": {},
   "outputs": [
    {
     "name": "stdout",
     "output_type": "stream",
     "text": [
      " Volume in drive C has no label.\n",
      " Volume Serial Number is F66F-A148\n",
      "\n",
      " Directory of c:\\Users\\hp\\Desktop\\Machine L\\pubmed_papers\n",
      "\n",
      "09-07-2025  12.38 PM    <DIR>          .\n",
      "09-07-2025  12.31 PM    <DIR>          ..\n",
      "09-07-2025  12.34 PM            30,998 filtered_pubmed_papers.csv\n",
      "09-07-2025  12.38 PM             1,395 README.md\n",
      "09-07-2025  12.35 PM            33,255 report.ipynb\n",
      "09-07-2025  12.41 PM             4,885 submission.ipynb\n",
      "               4 File(s)         70,533 bytes\n",
      "               2 Dir(s)  124,848,111,616 bytes free\n"
     ]
    }
   ],
   "source": [
    "!cd \"C:/Users/hp/Desktop/Machine L/pubmed_paper_fetcher\"\n",
    "!dir\n"
   ]
  },
  {
   "cell_type": "code",
   "execution_count": null,
   "id": "e5a0ad6f",
   "metadata": {},
   "outputs": [],
   "source": []
  }
 ],
 "metadata": {
  "kernelspec": {
   "display_name": "base",
   "language": "python",
   "name": "python3"
  },
  "language_info": {
   "codemirror_mode": {
    "name": "ipython",
    "version": 3
   },
   "file_extension": ".py",
   "mimetype": "text/x-python",
   "name": "python",
   "nbconvert_exporter": "python",
   "pygments_lexer": "ipython3",
   "version": "3.12.7"
  }
 },
 "nbformat": 4,
 "nbformat_minor": 5
}
